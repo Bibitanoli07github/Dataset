{
 "cells": [
  {
   "cell_type": "markdown",
   "id": "4b1aecf8-6b4f-4871-8f65-d3e061458d4b",
   "metadata": {},
   "source": [
    "# HAJRA BIBI\n",
    "# 2k24/TYCS/2"
   ]
  },
  {
   "cell_type": "code",
   "execution_count": 1,
   "id": "1f8ab2d8-eb36-4c23-b3be-c82ee859926f",
   "metadata": {},
   "outputs": [
    {
     "name": "stdout",
     "output_type": "stream",
     "text": [
      "Requirement already satisfied: pandas in c:\\users\\c s\\desktop\\ancaconda\\lib\\site-packages (2.1.4)\n",
      "Requirement already satisfied: numpy<2,>=1.23.2 in c:\\users\\c s\\desktop\\ancaconda\\lib\\site-packages (from pandas) (1.26.4)\n",
      "Requirement already satisfied: python-dateutil>=2.8.2 in c:\\users\\c s\\desktop\\ancaconda\\lib\\site-packages (from pandas) (2.8.2)\n",
      "Requirement already satisfied: pytz>=2020.1 in c:\\users\\c s\\desktop\\ancaconda\\lib\\site-packages (from pandas) (2023.3.post1)\n",
      "Requirement already satisfied: tzdata>=2022.1 in c:\\users\\c s\\desktop\\ancaconda\\lib\\site-packages (from pandas) (2023.3)\n",
      "Requirement already satisfied: six>=1.5 in c:\\users\\c s\\desktop\\ancaconda\\lib\\site-packages (from python-dateutil>=2.8.2->pandas) (1.16.0)\n"
     ]
    }
   ],
   "source": [
    "!pip install pandas"
   ]
  },
  {
   "cell_type": "code",
   "execution_count": 2,
   "id": "ff7cb859-7ac7-4bb2-8019-f84456c7cfa4",
   "metadata": {},
   "outputs": [],
   "source": [
    "import pandas as pd"
   ]
  },
  {
   "cell_type": "code",
   "execution_count": 6,
   "id": "ba374d72-4c4c-4a55-bffa-2b9b3673d304",
   "metadata": {},
   "outputs": [
    {
     "name": "stdout",
     "output_type": "stream",
     "text": [
      "student Records\n",
      "\n",
      "   student  rank  mark\n",
      "0    bibi     1    70\n",
      "1   hajra     4    80\n",
      "2  tanoli     3    90\n"
     ]
    }
   ],
   "source": [
    "data = {\n",
    "    \"student\":[\"bibi\",\"hajra\",\"tanoli\"],\n",
    "    \"rank\":[1,4,3],\n",
    "    \"mark\": [70,80,90]\n",
    "}\n",
    "res=pd.DataFrame(data)\n",
    "\n",
    "print(\"student Records\\n\\n\",res) \n"
   ]
  },
  {
   "cell_type": "code",
   "execution_count": 9,
   "id": "39d74169-1317-4aa8-bcc6-1fcbabf23a3e",
   "metadata": {},
   "outputs": [
    {
     "name": "stdout",
     "output_type": "stream",
     "text": [
      "    Rank                    Team/NOC  Gold Medal  Silver Medal  Bronze Medal  \\\n",
      "0      1    United States of America          39            41            33   \n",
      "1      2  People's Republic of China          38            32            18   \n",
      "2      3                       Japan          27            14            17   \n",
      "3      4               Great Britain          22            21            22   \n",
      "4      5                         ROC          20            28            23   \n",
      "..   ...                         ...         ...           ...           ...   \n",
      "88    86                       Ghana           0             0             1   \n",
      "89    86                     Grenada           0             0             1   \n",
      "90    86                      Kuwait           0             0             1   \n",
      "91    86         Republic of Moldova           0             0             1   \n",
      "92    86        Syrian Arab Republic           0             0             1   \n",
      "\n",
      "    Total  Rank by Total NOCCode      Continent  \n",
      "0     113              1     USA  North America  \n",
      "1      88              2     CHN           Asia  \n",
      "2      58              5     JPN           Asia  \n",
      "3      65              4     GBR         Europe  \n",
      "4      71              3     ROC    Europe/Asia  \n",
      "..    ...            ...     ...            ...  \n",
      "88      1             77     GHA         Africa  \n",
      "89      1             77     GRN  North America  \n",
      "90      1             77     KUW         Africa  \n",
      "91      1             77     MDA           Asia  \n",
      "92      1             77     SYR           Asia  \n",
      "\n",
      "[93 rows x 9 columns]\n"
     ]
    }
   ],
   "source": [
    "import pandas as pd #read csv,coma,sepreator,value\n",
    "d=pd.read_csv(\"C:\\\\Users\\\\C S\\\\Desktop\\\\Dataset\\\\Tokyo2021.csv\")\n",
    "df=pd.DataFrame(d)\n",
    "print(d)"
   ]
  },
  {
   "cell_type": "code",
   "execution_count": 10,
   "id": "756d0d7b-6801-4be8-9612-ab0a50e40f34",
   "metadata": {
    "scrolled": true
   },
   "outputs": [
    {
     "data": {
      "text/html": [
       "<div>\n",
       "<style scoped>\n",
       "    .dataframe tbody tr th:only-of-type {\n",
       "        vertical-align: middle;\n",
       "    }\n",
       "\n",
       "    .dataframe tbody tr th {\n",
       "        vertical-align: top;\n",
       "    }\n",
       "\n",
       "    .dataframe thead th {\n",
       "        text-align: right;\n",
       "    }\n",
       "</style>\n",
       "<table border=\"1\" class=\"dataframe\">\n",
       "  <thead>\n",
       "    <tr style=\"text-align: right;\">\n",
       "      <th></th>\n",
       "      <th>Rank</th>\n",
       "      <th>Team/NOC</th>\n",
       "      <th>Gold Medal</th>\n",
       "      <th>Silver Medal</th>\n",
       "      <th>Bronze Medal</th>\n",
       "      <th>Total</th>\n",
       "      <th>Rank by Total</th>\n",
       "      <th>NOCCode</th>\n",
       "      <th>Continent</th>\n",
       "    </tr>\n",
       "  </thead>\n",
       "  <tbody>\n",
       "    <tr>\n",
       "      <th>0</th>\n",
       "      <td>1</td>\n",
       "      <td>United States of America</td>\n",
       "      <td>39</td>\n",
       "      <td>41</td>\n",
       "      <td>33</td>\n",
       "      <td>113</td>\n",
       "      <td>1</td>\n",
       "      <td>USA</td>\n",
       "      <td>North America</td>\n",
       "    </tr>\n",
       "    <tr>\n",
       "      <th>1</th>\n",
       "      <td>2</td>\n",
       "      <td>People's Republic of China</td>\n",
       "      <td>38</td>\n",
       "      <td>32</td>\n",
       "      <td>18</td>\n",
       "      <td>88</td>\n",
       "      <td>2</td>\n",
       "      <td>CHN</td>\n",
       "      <td>Asia</td>\n",
       "    </tr>\n",
       "    <tr>\n",
       "      <th>2</th>\n",
       "      <td>3</td>\n",
       "      <td>Japan</td>\n",
       "      <td>27</td>\n",
       "      <td>14</td>\n",
       "      <td>17</td>\n",
       "      <td>58</td>\n",
       "      <td>5</td>\n",
       "      <td>JPN</td>\n",
       "      <td>Asia</td>\n",
       "    </tr>\n",
       "    <tr>\n",
       "      <th>3</th>\n",
       "      <td>4</td>\n",
       "      <td>Great Britain</td>\n",
       "      <td>22</td>\n",
       "      <td>21</td>\n",
       "      <td>22</td>\n",
       "      <td>65</td>\n",
       "      <td>4</td>\n",
       "      <td>GBR</td>\n",
       "      <td>Europe</td>\n",
       "    </tr>\n",
       "    <tr>\n",
       "      <th>4</th>\n",
       "      <td>5</td>\n",
       "      <td>ROC</td>\n",
       "      <td>20</td>\n",
       "      <td>28</td>\n",
       "      <td>23</td>\n",
       "      <td>71</td>\n",
       "      <td>3</td>\n",
       "      <td>ROC</td>\n",
       "      <td>Europe/Asia</td>\n",
       "    </tr>\n",
       "  </tbody>\n",
       "</table>\n",
       "</div>"
      ],
      "text/plain": [
       "   Rank                    Team/NOC  Gold Medal  Silver Medal  Bronze Medal  \\\n",
       "0     1    United States of America          39            41            33   \n",
       "1     2  People's Republic of China          38            32            18   \n",
       "2     3                       Japan          27            14            17   \n",
       "3     4               Great Britain          22            21            22   \n",
       "4     5                         ROC          20            28            23   \n",
       "\n",
       "   Total  Rank by Total NOCCode      Continent  \n",
       "0    113              1     USA  North America  \n",
       "1     88              2     CHN           Asia  \n",
       "2     58              5     JPN           Asia  \n",
       "3     65              4     GBR         Europe  \n",
       "4     71              3     ROC    Europe/Asia  "
      ]
     },
     "execution_count": 10,
     "metadata": {},
     "output_type": "execute_result"
    }
   ],
   "source": [
    "df.head() #top five team record take by default value 5 using head"
   ]
  },
  {
   "cell_type": "code",
   "execution_count": 13,
   "id": "b9c6e268-0243-4570-9bb8-f3e35ec01a35",
   "metadata": {},
   "outputs": [
    {
     "data": {
      "text/html": [
       "<div>\n",
       "<style scoped>\n",
       "    .dataframe tbody tr th:only-of-type {\n",
       "        vertical-align: middle;\n",
       "    }\n",
       "\n",
       "    .dataframe tbody tr th {\n",
       "        vertical-align: top;\n",
       "    }\n",
       "\n",
       "    .dataframe thead th {\n",
       "        text-align: right;\n",
       "    }\n",
       "</style>\n",
       "<table border=\"1\" class=\"dataframe\">\n",
       "  <thead>\n",
       "    <tr style=\"text-align: right;\">\n",
       "      <th></th>\n",
       "      <th>Rank</th>\n",
       "      <th>Team/NOC</th>\n",
       "      <th>Gold Medal</th>\n",
       "      <th>Silver Medal</th>\n",
       "      <th>Bronze Medal</th>\n",
       "      <th>Total</th>\n",
       "      <th>Rank by Total</th>\n",
       "      <th>NOCCode</th>\n",
       "      <th>Continent</th>\n",
       "    </tr>\n",
       "  </thead>\n",
       "  <tbody>\n",
       "    <tr>\n",
       "      <th>88</th>\n",
       "      <td>86</td>\n",
       "      <td>Ghana</td>\n",
       "      <td>0</td>\n",
       "      <td>0</td>\n",
       "      <td>1</td>\n",
       "      <td>1</td>\n",
       "      <td>77</td>\n",
       "      <td>GHA</td>\n",
       "      <td>Africa</td>\n",
       "    </tr>\n",
       "    <tr>\n",
       "      <th>89</th>\n",
       "      <td>86</td>\n",
       "      <td>Grenada</td>\n",
       "      <td>0</td>\n",
       "      <td>0</td>\n",
       "      <td>1</td>\n",
       "      <td>1</td>\n",
       "      <td>77</td>\n",
       "      <td>GRN</td>\n",
       "      <td>North America</td>\n",
       "    </tr>\n",
       "    <tr>\n",
       "      <th>90</th>\n",
       "      <td>86</td>\n",
       "      <td>Kuwait</td>\n",
       "      <td>0</td>\n",
       "      <td>0</td>\n",
       "      <td>1</td>\n",
       "      <td>1</td>\n",
       "      <td>77</td>\n",
       "      <td>KUW</td>\n",
       "      <td>Africa</td>\n",
       "    </tr>\n",
       "    <tr>\n",
       "      <th>91</th>\n",
       "      <td>86</td>\n",
       "      <td>Republic of Moldova</td>\n",
       "      <td>0</td>\n",
       "      <td>0</td>\n",
       "      <td>1</td>\n",
       "      <td>1</td>\n",
       "      <td>77</td>\n",
       "      <td>MDA</td>\n",
       "      <td>Asia</td>\n",
       "    </tr>\n",
       "    <tr>\n",
       "      <th>92</th>\n",
       "      <td>86</td>\n",
       "      <td>Syrian Arab Republic</td>\n",
       "      <td>0</td>\n",
       "      <td>0</td>\n",
       "      <td>1</td>\n",
       "      <td>1</td>\n",
       "      <td>77</td>\n",
       "      <td>SYR</td>\n",
       "      <td>Asia</td>\n",
       "    </tr>\n",
       "  </tbody>\n",
       "</table>\n",
       "</div>"
      ],
      "text/plain": [
       "    Rank              Team/NOC  Gold Medal  Silver Medal  Bronze Medal  Total  \\\n",
       "88    86                 Ghana           0             0             1      1   \n",
       "89    86               Grenada           0             0             1      1   \n",
       "90    86                Kuwait           0             0             1      1   \n",
       "91    86   Republic of Moldova           0             0             1      1   \n",
       "92    86  Syrian Arab Republic           0             0             1      1   \n",
       "\n",
       "    Rank by Total NOCCode      Continent  \n",
       "88             77     GHA         Africa  \n",
       "89             77     GRN  North America  \n",
       "90             77     KUW         Africa  \n",
       "91             77     MDA           Asia  \n",
       "92             77     SYR           Asia  "
      ]
     },
     "execution_count": 13,
     "metadata": {},
     "output_type": "execute_result"
    }
   ],
   "source": [
    "df.tail() # last five using tail tag get last f value "
   ]
  },
  {
   "cell_type": "code",
   "execution_count": 7,
   "id": "686022c5-0ed1-4074-a10f-f956fe68fbbf",
   "metadata": {},
   "outputs": [
    {
     "data": {
      "text/html": [
       "<div>\n",
       "<style scoped>\n",
       "    .dataframe tbody tr th:only-of-type {\n",
       "        vertical-align: middle;\n",
       "    }\n",
       "\n",
       "    .dataframe tbody tr th {\n",
       "        vertical-align: top;\n",
       "    }\n",
       "\n",
       "    .dataframe thead th {\n",
       "        text-align: right;\n",
       "    }\n",
       "</style>\n",
       "<table border=\"1\" class=\"dataframe\">\n",
       "  <thead>\n",
       "    <tr style=\"text-align: right;\">\n",
       "      <th></th>\n",
       "      <th>Rank</th>\n",
       "      <th>Team/NOC</th>\n",
       "      <th>Gold Medal</th>\n",
       "      <th>Silver Medal</th>\n",
       "      <th>Bronze Medal</th>\n",
       "      <th>Total</th>\n",
       "      <th>Rank by Total</th>\n",
       "      <th>NOCCode</th>\n",
       "      <th>Continent</th>\n",
       "    </tr>\n",
       "  </thead>\n",
       "  <tbody>\n",
       "    <tr>\n",
       "      <th>0</th>\n",
       "      <td>1</td>\n",
       "      <td>United States of America</td>\n",
       "      <td>39</td>\n",
       "      <td>41</td>\n",
       "      <td>33</td>\n",
       "      <td>113</td>\n",
       "      <td>1</td>\n",
       "      <td>USA</td>\n",
       "      <td>North America</td>\n",
       "    </tr>\n",
       "    <tr>\n",
       "      <th>1</th>\n",
       "      <td>2</td>\n",
       "      <td>People's Republic of China</td>\n",
       "      <td>38</td>\n",
       "      <td>32</td>\n",
       "      <td>18</td>\n",
       "      <td>88</td>\n",
       "      <td>2</td>\n",
       "      <td>CHN</td>\n",
       "      <td>Asia</td>\n",
       "    </tr>\n",
       "    <tr>\n",
       "      <th>2</th>\n",
       "      <td>3</td>\n",
       "      <td>Japan</td>\n",
       "      <td>27</td>\n",
       "      <td>14</td>\n",
       "      <td>17</td>\n",
       "      <td>58</td>\n",
       "      <td>5</td>\n",
       "      <td>JPN</td>\n",
       "      <td>Asia</td>\n",
       "    </tr>\n",
       "  </tbody>\n",
       "</table>\n",
       "</div>"
      ],
      "text/plain": [
       "   Rank                    Team/NOC  Gold Medal  Silver Medal  Bronze Medal  \\\n",
       "0     1    United States of America          39            41            33   \n",
       "1     2  People's Republic of China          38            32            18   \n",
       "2     3                       Japan          27            14            17   \n",
       "\n",
       "   Total  Rank by Total NOCCode      Continent  \n",
       "0    113              1     USA  North America  \n",
       "1     88              2     CHN           Asia  \n",
       "2     58              5     JPN           Asia  "
      ]
     },
     "execution_count": 7,
     "metadata": {},
     "output_type": "execute_result"
    }
   ],
   "source": [
    "import pandas as pd\n",
    "df=pd.read_csv(\"C:\\\\Users\\\\C S\\\\Desktop\\\\Dataset\\\\Tokyo2021.csv\")\n",
    "df.head(3)"
   ]
  },
  {
   "cell_type": "code",
   "execution_count": 9,
   "id": "9f411c98-262c-451d-87d0-8b142c9edf35",
   "metadata": {},
   "outputs": [
    {
     "data": {
      "text/plain": [
       "Index(['Rank', 'Team/NOC', 'Gold Medal', 'Silver Medal', 'Bronze Medal',\n",
       "       'Total', 'Rank by Total', 'NOCCode', 'Continent'],\n",
       "      dtype='object')"
      ]
     },
     "execution_count": 9,
     "metadata": {},
     "output_type": "execute_result"
    }
   ],
   "source": [
    "import pandas as pd\n",
    "df=pd.read_csv(\"C:\\\\Users\\\\C S\\\\Desktop\\\\Dataset\\\\Tokyo2021.csv\")\n",
    "df.columns"
   ]
  },
  {
   "cell_type": "code",
   "execution_count": 10,
   "id": "d33b67d7-9269-46f7-9ece-f01ee150dacb",
   "metadata": {},
   "outputs": [
    {
     "data": {
      "text/plain": [
       "RangeIndex(start=0, stop=93, step=1)"
      ]
     },
     "execution_count": 10,
     "metadata": {},
     "output_type": "execute_result"
    }
   ],
   "source": [
    "import pandas as pd\n",
    "df=pd.read_csv(\"C:\\\\Users\\\\C S\\\\Desktop\\\\Dataset\\\\Tokyo2021.csv\")\n",
    "df.index"
   ]
  },
  {
   "cell_type": "code",
   "execution_count": 12,
   "id": "7585502e-0815-432c-b4d8-cc5112da833d",
   "metadata": {},
   "outputs": [
    {
     "data": {
      "text/plain": [
       "0      1\n",
       "1      2\n",
       "2      3\n",
       "3      4\n",
       "4      5\n",
       "      ..\n",
       "88    86\n",
       "89    86\n",
       "90    86\n",
       "91    86\n",
       "92    86\n",
       "Name: Rank, Length: 93, dtype: int64"
      ]
     },
     "execution_count": 12,
     "metadata": {},
     "output_type": "execute_result"
    }
   ],
   "source": [
    "import pandas as pd\n",
    "df=pd.read_csv(\"C:\\\\Users\\\\C S\\\\Desktop\\\\Dataset\\\\Tokyo2021.csv\")\n",
    "df['Rank']"
   ]
  },
  {
   "cell_type": "code",
   "execution_count": 14,
   "id": "95dcfa81-1b25-443e-9be9-eace8619408d",
   "metadata": {},
   "outputs": [
    {
     "data": {
      "text/plain": [
       "0      1\n",
       "1      2\n",
       "2      3\n",
       "3      4\n",
       "4      5\n",
       "      ..\n",
       "88    86\n",
       "89    86\n",
       "90    86\n",
       "91    86\n",
       "92    86\n",
       "Name: Rank, Length: 93, dtype: int64"
      ]
     },
     "execution_count": 14,
     "metadata": {},
     "output_type": "execute_result"
    }
   ],
   "source": [
    "import pandas as pd\n",
    "df=pd.read_csv(\"C:\\\\Users\\\\C S\\\\Desktop\\\\Dataset\\\\Tokyo2021.csv\")\n",
    "df.Rank"
   ]
  },
  {
   "cell_type": "code",
   "execution_count": 17,
   "id": "750ac70c-78a1-4fb7-a65e-9a01d64ae2a9",
   "metadata": {},
   "outputs": [
    {
     "data": {
      "text/html": [
       "<div>\n",
       "<style scoped>\n",
       "    .dataframe tbody tr th:only-of-type {\n",
       "        vertical-align: middle;\n",
       "    }\n",
       "\n",
       "    .dataframe tbody tr th {\n",
       "        vertical-align: top;\n",
       "    }\n",
       "\n",
       "    .dataframe thead th {\n",
       "        text-align: right;\n",
       "    }\n",
       "</style>\n",
       "<table border=\"1\" class=\"dataframe\">\n",
       "  <thead>\n",
       "    <tr style=\"text-align: right;\">\n",
       "      <th></th>\n",
       "      <th>Rank</th>\n",
       "      <th>Bronze Medal</th>\n",
       "    </tr>\n",
       "  </thead>\n",
       "  <tbody>\n",
       "    <tr>\n",
       "      <th>0</th>\n",
       "      <td>1</td>\n",
       "      <td>33</td>\n",
       "    </tr>\n",
       "    <tr>\n",
       "      <th>1</th>\n",
       "      <td>2</td>\n",
       "      <td>18</td>\n",
       "    </tr>\n",
       "    <tr>\n",
       "      <th>2</th>\n",
       "      <td>3</td>\n",
       "      <td>17</td>\n",
       "    </tr>\n",
       "    <tr>\n",
       "      <th>3</th>\n",
       "      <td>4</td>\n",
       "      <td>22</td>\n",
       "    </tr>\n",
       "    <tr>\n",
       "      <th>4</th>\n",
       "      <td>5</td>\n",
       "      <td>23</td>\n",
       "    </tr>\n",
       "    <tr>\n",
       "      <th>...</th>\n",
       "      <td>...</td>\n",
       "      <td>...</td>\n",
       "    </tr>\n",
       "    <tr>\n",
       "      <th>88</th>\n",
       "      <td>86</td>\n",
       "      <td>1</td>\n",
       "    </tr>\n",
       "    <tr>\n",
       "      <th>89</th>\n",
       "      <td>86</td>\n",
       "      <td>1</td>\n",
       "    </tr>\n",
       "    <tr>\n",
       "      <th>90</th>\n",
       "      <td>86</td>\n",
       "      <td>1</td>\n",
       "    </tr>\n",
       "    <tr>\n",
       "      <th>91</th>\n",
       "      <td>86</td>\n",
       "      <td>1</td>\n",
       "    </tr>\n",
       "    <tr>\n",
       "      <th>92</th>\n",
       "      <td>86</td>\n",
       "      <td>1</td>\n",
       "    </tr>\n",
       "  </tbody>\n",
       "</table>\n",
       "<p>93 rows × 2 columns</p>\n",
       "</div>"
      ],
      "text/plain": [
       "    Rank  Bronze Medal\n",
       "0      1            33\n",
       "1      2            18\n",
       "2      3            17\n",
       "3      4            22\n",
       "4      5            23\n",
       "..   ...           ...\n",
       "88    86             1\n",
       "89    86             1\n",
       "90    86             1\n",
       "91    86             1\n",
       "92    86             1\n",
       "\n",
       "[93 rows x 2 columns]"
      ]
     },
     "execution_count": 17,
     "metadata": {},
     "output_type": "execute_result"
    }
   ],
   "source": [
    "df[[\"Rank\",\"Bronze Medal\"]]"
   ]
  },
  {
   "cell_type": "code",
   "execution_count": 19,
   "id": "e071e44a-73f9-4403-98e4-5d8795546662",
   "metadata": {},
   "outputs": [
    {
     "data": {
      "text/plain": [
       "1    2\n",
       "2    3\n",
       "3    4\n",
       "Name: Rank, dtype: int64"
      ]
     },
     "execution_count": 19,
     "metadata": {},
     "output_type": "execute_result"
    }
   ],
   "source": [
    "df.Rank[1:4]"
   ]
  },
  {
   "cell_type": "code",
   "execution_count": 20,
   "id": "8a843ecc-c941-4776-8710-88a90147d30e",
   "metadata": {},
   "outputs": [
    {
     "data": {
      "text/plain": [
       "1"
      ]
     },
     "execution_count": 20,
     "metadata": {},
     "output_type": "execute_result"
    }
   ],
   "source": [
    "df.loc[0,\"Rank\"]"
   ]
  },
  {
   "cell_type": "code",
   "execution_count": 22,
   "id": "f78e722a-4d2f-4877-b56c-a7b5fcb67cb8",
   "metadata": {},
   "outputs": [
    {
     "data": {
      "text/plain": [
       "'Kuwait'"
      ]
     },
     "execution_count": 22,
     "metadata": {},
     "output_type": "execute_result"
    }
   ],
   "source": [
    "df.loc[90,\"Team/NOC\"]"
   ]
  },
  {
   "cell_type": "code",
   "execution_count": 25,
   "id": "17815b87-f5c8-4392-93d4-1507d68351c8",
   "metadata": {},
   "outputs": [
    {
     "data": {
      "text/html": [
       "<div>\n",
       "<style scoped>\n",
       "    .dataframe tbody tr th:only-of-type {\n",
       "        vertical-align: middle;\n",
       "    }\n",
       "\n",
       "    .dataframe tbody tr th {\n",
       "        vertical-align: top;\n",
       "    }\n",
       "\n",
       "    .dataframe thead th {\n",
       "        text-align: right;\n",
       "    }\n",
       "</style>\n",
       "<table border=\"1\" class=\"dataframe\">\n",
       "  <thead>\n",
       "    <tr style=\"text-align: right;\">\n",
       "      <th></th>\n",
       "      <th>Rank</th>\n",
       "      <th>Team/NOC</th>\n",
       "    </tr>\n",
       "  </thead>\n",
       "  <tbody>\n",
       "    <tr>\n",
       "      <th>0</th>\n",
       "      <td>1</td>\n",
       "      <td>United States of America</td>\n",
       "    </tr>\n",
       "    <tr>\n",
       "      <th>1</th>\n",
       "      <td>2</td>\n",
       "      <td>People's Republic of China</td>\n",
       "    </tr>\n",
       "    <tr>\n",
       "      <th>2</th>\n",
       "      <td>3</td>\n",
       "      <td>Japan</td>\n",
       "    </tr>\n",
       "    <tr>\n",
       "      <th>3</th>\n",
       "      <td>4</td>\n",
       "      <td>Great Britain</td>\n",
       "    </tr>\n",
       "    <tr>\n",
       "      <th>4</th>\n",
       "      <td>5</td>\n",
       "      <td>ROC</td>\n",
       "    </tr>\n",
       "  </tbody>\n",
       "</table>\n",
       "</div>"
      ],
      "text/plain": [
       "   Rank                    Team/NOC\n",
       "0     1    United States of America\n",
       "1     2  People's Republic of China\n",
       "2     3                       Japan\n",
       "3     4               Great Britain\n",
       "4     5                         ROC"
      ]
     },
     "execution_count": 25,
     "metadata": {},
     "output_type": "execute_result"
    }
   ],
   "source": [
    "df.loc[0:4,\"Rank\":\"Team/NOC\"]"
   ]
  },
  {
   "cell_type": "code",
   "execution_count": 32,
   "id": "e58c50ee-1261-4720-95f7-705402c07965",
   "metadata": {},
   "outputs": [
    {
     "data": {
      "text/html": [
       "<div>\n",
       "<style scoped>\n",
       "    .dataframe tbody tr th:only-of-type {\n",
       "        vertical-align: middle;\n",
       "    }\n",
       "\n",
       "    .dataframe tbody tr th {\n",
       "        vertical-align: top;\n",
       "    }\n",
       "\n",
       "    .dataframe thead th {\n",
       "        text-align: right;\n",
       "    }\n",
       "</style>\n",
       "<table border=\"1\" class=\"dataframe\">\n",
       "  <thead>\n",
       "    <tr style=\"text-align: right;\">\n",
       "      <th></th>\n",
       "      <th>Rank</th>\n",
       "      <th>Team/NOC</th>\n",
       "    </tr>\n",
       "  </thead>\n",
       "  <tbody>\n",
       "    <tr>\n",
       "      <th>0</th>\n",
       "      <td>1</td>\n",
       "      <td>United States of America</td>\n",
       "    </tr>\n",
       "    <tr>\n",
       "      <th>5</th>\n",
       "      <td>6</td>\n",
       "      <td>Australia</td>\n",
       "    </tr>\n",
       "    <tr>\n",
       "      <th>9</th>\n",
       "      <td>10</td>\n",
       "      <td>Italy</td>\n",
       "    </tr>\n",
       "  </tbody>\n",
       "</table>\n",
       "</div>"
      ],
      "text/plain": [
       "   Rank                  Team/NOC\n",
       "0     1  United States of America\n",
       "5     6                 Australia\n",
       "9    10                     Italy"
      ]
     },
     "execution_count": 32,
     "metadata": {},
     "output_type": "execute_result"
    }
   ],
   "source": [
    "df.loc[[0,5,9],[\"Rank\",\"Team/NOC\"]]"
   ]
  },
  {
   "cell_type": "code",
   "execution_count": 39,
   "id": "94e872a0-5e25-4dd6-8936-609257dd215c",
   "metadata": {},
   "outputs": [
    {
     "data": {
      "text/plain": [
       "46.333333333333336"
      ]
     },
     "execution_count": 39,
     "metadata": {},
     "output_type": "execute_result"
    }
   ],
   "source": [
    "df.Rank.mean()"
   ]
  },
  {
   "cell_type": "code",
   "execution_count": 40,
   "id": "969094a0-ca29-4a6e-b105-c928a34f5911",
   "metadata": {},
   "outputs": [
    {
     "data": {
      "text/plain": [
       "41"
      ]
     },
     "execution_count": 40,
     "metadata": {},
     "output_type": "execute_result"
    }
   ],
   "source": [
    "df[\"Silver Medal\"].max()"
   ]
  },
  {
   "cell_type": "code",
   "execution_count": 41,
   "id": "1ae5a8cd-e057-40cf-b1a2-10559a032bbf",
   "metadata": {},
   "outputs": [
    {
     "data": {
      "text/html": [
       "<div>\n",
       "<style scoped>\n",
       "    .dataframe tbody tr th:only-of-type {\n",
       "        vertical-align: middle;\n",
       "    }\n",
       "\n",
       "    .dataframe tbody tr th {\n",
       "        vertical-align: top;\n",
       "    }\n",
       "\n",
       "    .dataframe thead th {\n",
       "        text-align: right;\n",
       "    }\n",
       "</style>\n",
       "<table border=\"1\" class=\"dataframe\">\n",
       "  <thead>\n",
       "    <tr style=\"text-align: right;\">\n",
       "      <th></th>\n",
       "      <th>Rank</th>\n",
       "      <th>Gold Medal</th>\n",
       "      <th>Silver Medal</th>\n",
       "      <th>Bronze Medal</th>\n",
       "      <th>Total</th>\n",
       "      <th>Rank by Total</th>\n",
       "    </tr>\n",
       "  </thead>\n",
       "  <tbody>\n",
       "    <tr>\n",
       "      <th>count</th>\n",
       "      <td>93.000000</td>\n",
       "      <td>93.000000</td>\n",
       "      <td>93.000000</td>\n",
       "      <td>93.000000</td>\n",
       "      <td>93.000000</td>\n",
       "      <td>93.000000</td>\n",
       "    </tr>\n",
       "    <tr>\n",
       "      <th>mean</th>\n",
       "      <td>46.333333</td>\n",
       "      <td>3.655914</td>\n",
       "      <td>3.634409</td>\n",
       "      <td>4.322581</td>\n",
       "      <td>11.612903</td>\n",
       "      <td>43.494624</td>\n",
       "    </tr>\n",
       "    <tr>\n",
       "      <th>std</th>\n",
       "      <td>26.219116</td>\n",
       "      <td>7.022471</td>\n",
       "      <td>6.626339</td>\n",
       "      <td>6.210372</td>\n",
       "      <td>19.091332</td>\n",
       "      <td>24.171769</td>\n",
       "    </tr>\n",
       "    <tr>\n",
       "      <th>min</th>\n",
       "      <td>1.000000</td>\n",
       "      <td>0.000000</td>\n",
       "      <td>0.000000</td>\n",
       "      <td>0.000000</td>\n",
       "      <td>1.000000</td>\n",
       "      <td>1.000000</td>\n",
       "    </tr>\n",
       "    <tr>\n",
       "      <th>25%</th>\n",
       "      <td>24.000000</td>\n",
       "      <td>0.000000</td>\n",
       "      <td>0.000000</td>\n",
       "      <td>1.000000</td>\n",
       "      <td>2.000000</td>\n",
       "      <td>23.000000</td>\n",
       "    </tr>\n",
       "    <tr>\n",
       "      <th>50%</th>\n",
       "      <td>46.000000</td>\n",
       "      <td>1.000000</td>\n",
       "      <td>1.000000</td>\n",
       "      <td>2.000000</td>\n",
       "      <td>4.000000</td>\n",
       "      <td>47.000000</td>\n",
       "    </tr>\n",
       "    <tr>\n",
       "      <th>75%</th>\n",
       "      <td>70.000000</td>\n",
       "      <td>3.000000</td>\n",
       "      <td>4.000000</td>\n",
       "      <td>5.000000</td>\n",
       "      <td>11.000000</td>\n",
       "      <td>66.000000</td>\n",
       "    </tr>\n",
       "    <tr>\n",
       "      <th>max</th>\n",
       "      <td>86.000000</td>\n",
       "      <td>39.000000</td>\n",
       "      <td>41.000000</td>\n",
       "      <td>33.000000</td>\n",
       "      <td>113.000000</td>\n",
       "      <td>77.000000</td>\n",
       "    </tr>\n",
       "  </tbody>\n",
       "</table>\n",
       "</div>"
      ],
      "text/plain": [
       "            Rank  Gold Medal  Silver Medal  Bronze Medal       Total  \\\n",
       "count  93.000000   93.000000     93.000000     93.000000   93.000000   \n",
       "mean   46.333333    3.655914      3.634409      4.322581   11.612903   \n",
       "std    26.219116    7.022471      6.626339      6.210372   19.091332   \n",
       "min     1.000000    0.000000      0.000000      0.000000    1.000000   \n",
       "25%    24.000000    0.000000      0.000000      1.000000    2.000000   \n",
       "50%    46.000000    1.000000      1.000000      2.000000    4.000000   \n",
       "75%    70.000000    3.000000      4.000000      5.000000   11.000000   \n",
       "max    86.000000   39.000000     41.000000     33.000000  113.000000   \n",
       "\n",
       "       Rank by Total  \n",
       "count      93.000000  \n",
       "mean       43.494624  \n",
       "std        24.171769  \n",
       "min         1.000000  \n",
       "25%        23.000000  \n",
       "50%        47.000000  \n",
       "75%        66.000000  \n",
       "max        77.000000  "
      ]
     },
     "execution_count": 41,
     "metadata": {},
     "output_type": "execute_result"
    }
   ],
   "source": [
    "df.describe()"
   ]
  },
  {
   "cell_type": "code",
   "execution_count": 46,
   "id": "b74ec399-a5d3-4399-b7cb-6e3c0eefe2ec",
   "metadata": {},
   "outputs": [
    {
     "data": {
      "text/plain": [
       "Silver Medal\n",
       "1     26\n",
       "0     24\n",
       "2     10\n",
       "3      7\n",
       "4      7\n",
       "6      5\n",
       "7      2\n",
       "12     2\n",
       "5      2\n",
       "8      1\n",
       "41     1\n",
       "32     1\n",
       "11     1\n",
       "28     1\n",
       "21     1\n",
       "14     1\n",
       "10     1\n",
       "Name: count, dtype: int64"
      ]
     },
     "execution_count": 46,
     "metadata": {},
     "output_type": "execute_result"
    }
   ],
   "source": [
    "df[\"Silver Medal\"].value_counts()"
   ]
  },
  {
   "cell_type": "code",
   "execution_count": 48,
   "id": "e7e1ef25-f331-441a-8284-e41240dcc35d",
   "metadata": {},
   "outputs": [
    {
     "data": {
      "text/plain": [
       "array([ 1,  2,  3,  4,  5,  6,  7,  8,  9, 10, 11, 12, 13, 14, 15, 16, 17,\n",
       "       18, 19, 20, 21, 22, 23, 24, 25, 26, 27, 28, 29, 30, 31, 32, 33, 34,\n",
       "       35, 36, 38, 39, 41, 42, 44, 45, 46, 48, 49, 50, 52, 53, 54, 55, 56,\n",
       "       58, 59, 63, 66, 67, 68, 69, 70, 71, 72, 74, 77, 83, 84, 85, 86],\n",
       "      dtype=int64)"
      ]
     },
     "execution_count": 48,
     "metadata": {},
     "output_type": "execute_result"
    }
   ],
   "source": [
    "df[\"Rank\"].unique()"
   ]
  },
  {
   "cell_type": "code",
   "execution_count": 5,
   "id": "50cb4319-9222-4cec-b1ce-bf2e8bbf39e0",
   "metadata": {},
   "outputs": [],
   "source": [
    "import matplotlib.pyplot as plt"
   ]
  },
  {
   "cell_type": "code",
   "execution_count": 9,
   "id": "6e278810-8fb6-45b4-bd80-6704eff766a1",
   "metadata": {},
   "outputs": [
    {
     "data": {
      "image/png": "[encoded data removed]",
      "text/plain": [
       "<Figure size 640x480 with 1 Axes>"
      ]
     },
     "metadata": {},
     "output_type": "display_data"
    }
   ],
   "source": [
    "\n",
    "df=pd.read_csv(\"C:\\\\Users\\\\C S\\\\Desktop\\\\Dataset\\\\Tokyo2021.csv\")\n",
    "x=['Gold Medal',  'Silver Medal',  'Bronze Medal']\n",
    "y=[ 39,            41,            33]\n",
    "plt.plot(x,y)\n",
    "plt.xlabel('column name')\n",
    "plt.ylabel(' medal')\n",
    "plt.title('LINE GRAPH')\n",
    "plt.show()\n",
    "\n"
   ]
  },
  {
   "cell_type": "markdown",
   "id": "2a53fffb-2017-49c9-931d-95a159949054",
   "metadata": {},
   "source": [
    "# SIMPLE REGRESSION"
   ]
  },
  {
   "cell_type": "code",
   "execution_count": 64,
   "id": "5b91a5c0-a6f0-4d2e-b364-db17df03cadb",
   "metadata": {},
   "outputs": [
    {
     "data": {
      "image/png": "[encoded data removed]",
      "text/plain": [
       "<Figure size 640x480 with 1 Axes>"
      ]
     },
     "metadata": {},
     "output_type": "display_data"
    },
    {
     "data": {
      "image/png": "[encoded data removed]",
      "text/plain": [
       "<Figure size 640x480 with 1 Axes>"
      ]
     },
     "metadata": {},
     "output_type": "display_data"
    },
    {
     "data": {
      "image/png": "[encoded data removed]",
      "text/plain": [
       "<Figure size 640x480 with 1 Axes>"
      ]
     },
     "metadata": {},
     "output_type": "display_data"
    },
    {
     "data": {
      "image/png": "[encoded data removed]",
      "text/plain": [
       "<Figure size 640x480 with 1 Axes>"
      ]
     },
     "metadata": {},
     "output_type": "display_data"
    },
    {
     "name": "stdout",
     "output_type": "stream",
     "text": [
      "Coefficient: [0.41481882]\n",
      "Intercept: -5.198485667928615\n"
     ]
    }
   ],
   "source": [
    "# Import libraries\n",
    "import pandas as pd\n",
    "import numpy as np\n",
    "import matplotlib.pyplot as plt\n",
    "import seaborn as sns\n",
    "from sklearn.model_selection import train_test_split\n",
    "from pandas.core.common import random_state\n",
    "from sklearn.linear_model import LinearRegression\n",
    "# Example data (using the same dataset structure as before)\n",
    "data = {\n",
    "    'Rank': [1, 2, 3, 4, 5, 6],\n",
    "    'Team/NOC': ['United States', 'Republic of China', 'Japan', 'Great Britain', 'ROC', 'Australia'],\n",
    "    'Gold Medal': [39, 38, 27, 22, 20, 17],\n",
    "    'Silver Medal': [41, 32, 14, 21, 28, 7],\n",
    "    'Bronze Medal': [33, 18, 17, 22, 23, 22],\n",
    "    'Total': [113, 88, 58, 65, 71, 46]\n",
    "}\n",
    "\n",
    "d = pd.DataFrame(data)\n",
    "\n",
    "# Define X and y\n",
    "X = d[['Total']]  # Predictor variable\n",
    "y = d['Gold Medal']  # Target variable (Gold Medals in this case)\n",
    "\n",
    "# Data distribution\n",
    "plt.title('Tokyo 2021 Game')\n",
    "sns.distplot(d['Gold Medal'])\n",
    "plt.show()\n",
    "\n",
    "\n",
    "# Relationship between Salary and Experience\n",
    "plt.scatter(d['Total'], d['Gold Medal'], color = 'lightcoral')\n",
    "plt.title('Tokyo 2021 Game')\n",
    "plt.xlabel('Total')\n",
    "plt.ylabel('Gold Medal')\n",
    "plt.box(False)\n",
    "plt.show()\n",
    "\n",
    "\n",
    "\n",
    "# Step 2: Split the dataset into training and testing sets\n",
    "X_train, X_test, y_train, y_test = train_test_split(X, y, test_size=0.2, random_state=0)\n",
    "\n",
    "# Step 3: Create a Linear Regression model and fit it on the training data\n",
    "regressor = LinearRegression()\n",
    "regressor.fit(X_train, y_train)\n",
    "\n",
    "# Step 4: Predict using the model\n",
    "y_pred_train = regressor.predict(X_test) # predicted value of y_test\n",
    "y_pred_train = regressor.predict(X_train)# predicted value of y_train\n",
    "\n",
    "\n",
    "\n",
    "# Prediction on training set\n",
    "plt.scatter(X_train, y_train, color = 'lightcoral')\n",
    "plt.plot(X_train, y_pred_train, color = 'firebrick')\n",
    "plt.title('Tokyo 2021 Game (Training Set)')\n",
    "plt.xlabel('Total')\n",
    "plt.ylabel('Gold Medal')\n",
    "plt.legend(['X_train/Pred(y_test)', 'X_train/y_train'], title = 'Sal/Exp', loc='best', facecolor='white')\n",
    "plt.box(False)\n",
    "plt.show()\n",
    "\n",
    "\n",
    "# Prediction on test set\n",
    "plt.scatter(X_test, y_test, color = 'lightcoral')\n",
    "plt.plot(X_train, y_pred_train, color = 'firebrick')\n",
    "plt.title('Tokyo 2021 Game (Test Set)')\n",
    "plt.xlabel('Total')\n",
    "plt.ylabel('Gold Medal')\n",
    "plt.legend(['X_train/Pred(y_test)', 'X_train/y_train'], title = 'Sal/Exp', loc='best', facecolor='white')\n",
    "plt.box(False)\n",
    "plt.show()\n",
    "\n",
    "# Regressor coefficients and intercept\n",
    "print(f'Coefficient: {regressor.coef_}')\n",
    "print(f'Intercept: {regressor.intercept_}')"
   ]
  }
 ],
 "metadata": {
  "kernelspec": {
   "display_name": "Python 3 (ipykernel)",
   "language": "python",
   "name": "python3"
  },
  "language_info": {
   "codemirror_mode": {
    "name": "ipython",
    "version": 3
   },
   "file_extension": ".py",
   "mimetype": "text/x-python",
   "name": "python",
   "nbconvert_exporter": "python",
   "pygments_lexer": "ipython3",
   "version": "3.11.7"
  }
 },
 "nbformat": 4,
 "nbformat_minor": 5
}
