{
 "cells": [
  {
   "cell_type": "markdown",
   "id": "a885ae4a-8f07-4910-bd4b-d6cd1eacb3d9",
   "metadata": {},
   "source": [
    "## HAJRA BIBI\n",
    "## 2k24/TYCS/2"
   ]
  },
  {
   "cell_type": "code",
   "execution_count": 2,
   "id": "85309410-704d-45dd-8942-34295b79363d",
   "metadata": {},
   "outputs": [
    {
     "name": "stdout",
     "output_type": "stream",
     "text": [
      "Requirement already satisfied: numpy in c:\\users\\c s\\desktop\\ancaconda\\lib\\site-packages (1.26.4)\n"
     ]
    }
   ],
   "source": [
    "!pip install numpy"
   ]
  },
  {
   "cell_type": "code",
   "execution_count": 8,
   "id": "ed8d8f16-faee-4b7d-8450-c644594b69c2",
   "metadata": {},
   "outputs": [
    {
     "name": "stdout",
     "output_type": "stream",
     "text": [
      "Matrix 1:\n",
      " [[1 2 3]\n",
      " [4 5 6]]\n",
      "\n",
      "Matrix 2 :\n",
      " [[ 7  8  9]\n",
      " [10 11 12]\n",
      " [13 14 15]]\n",
      "\n",
      "Zeros Matrix :\n",
      " [[0. 0.]\n",
      " [0. 0.]]\n",
      "\n",
      "Ones Matrix :\n",
      " [[1. 1. 1. 1.]\n",
      " [1. 1. 1. 1.]\n",
      " [1. 1. 1. 1.]]\n",
      "\n",
      "Identity Matrix :\n",
      " [[1. 0. 0.]\n",
      " [0. 1. 0.]\n",
      " [0. 0. 1.]]\n",
      "\n",
      "Diagonal Matrix :\n",
      " [[1 0 0 0]\n",
      " [0 2 0 0]\n",
      " [0 0 3 0]\n",
      " [0 0 0 4]]\n",
      "\n",
      "Random Matrix :\n",
      " [[0.128559   0.16926922]\n",
      " [0.17106879 0.56947103]]\n"
     ]
    }
   ],
   "source": [
    "import numpy as np\n",
    "# Create a 2x3 matrix\n",
    "matrix1 = np.array([[1,2,3],\n",
    "                   [4,5,6]])\n",
    "\n",
    "# Create a 3x3 matrix\n",
    "matrix2 = np.array([[7,8,9],\n",
    "                   [10,11,12],\n",
    "                   [13,14,15]])\n",
    "\n",
    "#Create a matrix of zeros with shape 2x2\n",
    "zeros_matrix = np.zeros((2,2))\n",
    "\n",
    "#Create a matrix of ones with shape 3x4\n",
    "ones_matrix = np.ones((3,4))\n",
    "\n",
    "#Create an identity matrix of size 3x3\n",
    "identity_matrix = np.eye(3)\n",
    "\n",
    "#create a diagonal matrix from a list\n",
    "diagonal_matrix = np.diag([1,2,3,4])\n",
    "\n",
    "#create a random matrix with shape 2x2\n",
    "random_matrix = np.random.rand(2,2)\n",
    "\n",
    "#display the matrices\n",
    "\n",
    "print(\"Matrix 1:\\n\", matrix1)\n",
    "print(\"\\nMatrix 2 :\\n\", matrix2)\n",
    "print(\"\\nZeros Matrix :\\n\", zeros_matrix)\n",
    "print(\"\\nOnes Matrix :\\n\", ones_matrix)\n",
    "print(\"\\nIdentity Matrix :\\n\", identity_matrix)   \n",
    "print(\"\\nDiagonal Matrix :\\n\", diagonal_matrix)  \n",
    "print(\"\\nRandom Matrix :\\n\", random_matrix)      \n",
    "      \n",
    "      \n",
    "\n",
    "\n",
    "\n"
   ]
  },
  {
   "cell_type": "code",
   "execution_count": null,
   "id": "ea5e6e60-783e-44c3-aa2d-f1f223017e41",
   "metadata": {},
   "outputs": [],
   "source": []
  }
 ],
 "metadata": {
  "kernelspec": {
   "display_name": "Python 3 (ipykernel)",
   "language": "python",
   "name": "python3"
  },
  "language_info": {
   "codemirror_mode": {
    "name": "ipython",
    "version": 3
   },
   "file_extension": ".py",
   "mimetype": "text/x-python",
   "name": "python",
   "nbconvert_exporter": "python",
   "pygments_lexer": "ipython3",
   "version": "3.11.7"
  }
 },
 "nbformat": 4,
 "nbformat_minor": 5
}
